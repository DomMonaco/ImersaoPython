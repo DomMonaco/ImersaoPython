{
  "nbformat": 4,
  "nbformat_minor": 0,
  "metadata": {
    "colab": {
      "provenance": [],
      "authorship_tag": "ABX9TyPWgi6j42mOoxryDKq4MkLW",
      "include_colab_link": true
    },
    "kernelspec": {
      "name": "python3",
      "display_name": "Python 3"
    },
    "language_info": {
      "name": "python"
    }
  },
  "cells": [
    {
      "cell_type": "markdown",
      "metadata": {
        "id": "view-in-github",
        "colab_type": "text"
      },
      "source": [
        "<a href=\"https://colab.research.google.com/github/DomMonaco/ImersaoPython/blob/main/Aula_de_Python_Inicial_Excel.ipynb\" target=\"_parent\"><img src=\"https://colab.research.google.com/assets/colab-badge.svg\" alt=\"Open In Colab\"/></a>"
      ]
    },
    {
      "cell_type": "markdown",
      "source": [],
      "metadata": {
        "id": "pg1K_6O8v5Rb"
      }
    },
    {
      "cell_type": "code",
      "source": [
        "import pandas as bibliotecaPandas"
      ],
      "metadata": {
        "id": "D3adJY4mv5Ao"
      },
      "execution_count": null,
      "outputs": []
    },
    {
      "cell_type": "code",
      "source": [
        "arquivoExcelPrincipal = bibliotecaPandas.read_excel(\"/content/[Faça uma cópia para editar] Imersão Python - Tabela de ações.xlsx\", sheet_name=\"Principal\")\n",
        "\n",
        "arquivoExcelPrincipal.head(10)"
      ],
      "metadata": {
        "id": "qHtrPXYBxKtd"
      },
      "execution_count": null,
      "outputs": []
    },
    {
      "cell_type": "code",
      "source": [
        "arquivoExcelTotalAcoes = bibliotecaPandas.read_excel(\"/content/[Faça uma cópia para editar] Imersão Python - Tabela de ações.xlsx\", sheet_name=\"Total_de_acoes\")\n",
        "\n",
        "arquivoExcelTotalAcoes.head(10)"
      ],
      "metadata": {
        "id": "TIrqi70_yf2I"
      },
      "execution_count": null,
      "outputs": []
    },
    {
      "cell_type": "code",
      "source": [
        "arquivoExcelTicker = bibliotecaPandas.read_excel(\"/content/[Faça uma cópia para editar] Imersão Python - Tabela de ações.xlsx\", sheet_name=\"Ticker\")\n",
        "\n",
        "arquivoExcelTicker.head(10)"
      ],
      "metadata": {
        "id": "HWvciXtry_1_"
      },
      "execution_count": null,
      "outputs": []
    }
  ]
}